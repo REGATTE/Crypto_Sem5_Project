{
  "nbformat": 4,
  "nbformat_minor": 0,
  "metadata": {
    "celltoolbar": "Tags",
    "kernelspec": {
      "display_name": "Python 3",
      "language": "python",
      "name": "python3"
    },
    "language_info": {
      "codemirror_mode": {
        "name": "ipython",
        "version": 3
      },
      "file_extension": ".py",
      "mimetype": "text/x-python",
      "name": "python",
      "nbconvert_exporter": "python",
      "pygments_lexer": "ipython3",
      "version": "3.8.5-final"
    },
    "colab": {
      "name": "crypto-proj.ipynb",
      "provenance": [],
      "collapsed_sections": []
    },
    "accelerator": "GPU"
  },
  "cells": [
    {
      "cell_type": "code",
      "metadata": {
        "id": "6d_NAWnAACFC"
      },
      "source": [
        "!pip3 install syft"
      ],
      "execution_count": 2,
      "outputs": [
        {
          "output_type": "stream",
          "name": "stdout",
          "text": [
            "Collecting syft\n",
            "  Downloading syft-0.2.9-py3-none-any.whl (433 kB)\n",
            "\u001b[K     |████████████████████████████████| 433 kB 4.1 MB/s \n",
            "\u001b[?25hCollecting torchvision~=0.5.0\n",
            "  Downloading torchvision-0.5.0-cp38-cp38-manylinux1_x86_64.whl (4.0 MB)\n",
            "\u001b[K     |████████████████████████████████| 4.0 MB 8.4 MB/s \n",
            "\u001b[?25hCollecting importlib-resources~=1.5.0\n",
            "  Downloading importlib_resources-1.5.0-py2.py3-none-any.whl (21 kB)\n",
            "Collecting flask-socketio~=4.2.1\n",
            "  Downloading Flask_SocketIO-4.2.1-py2.py3-none-any.whl (16 kB)\n",
            "Requirement already satisfied: requests~=2.22.0 in /usr/lib/python3/dist-packages (from syft) (2.22.0)\n",
            "Collecting scipy~=1.4.1\n",
            "  Downloading scipy-1.4.1-cp38-cp38-manylinux1_x86_64.whl (26.0 MB)\n",
            "\u001b[K     |████████████████████████████████| 26.0 MB 19.4 MB/s \n",
            "\u001b[?25hRequirement already satisfied: numpy~=1.18.1 in /home/regatte/.local/lib/python3.8/site-packages (from syft) (1.18.5)\n",
            "Collecting tblib~=1.6.0\n",
            "  Downloading tblib-1.6.0-py2.py3-none-any.whl (12 kB)\n",
            "Collecting websocket-client~=0.57.0\n",
            "  Downloading websocket_client-0.57.0-py2.py3-none-any.whl (200 kB)\n",
            "\u001b[K     |████████████████████████████████| 200 kB 17.1 MB/s \n",
            "\u001b[?25hCollecting lz4~=3.0.2\n",
            "  Downloading lz4-3.0.2-cp38-cp38-manylinux2010_x86_64.whl (1.8 MB)\n",
            "\u001b[K     |████████████████████████████████| 1.8 MB 27.3 MB/s \n",
            "\u001b[?25hCollecting requests-toolbelt==0.9.1\n",
            "  Downloading requests_toolbelt-0.9.1-py2.py3-none-any.whl (54 kB)\n",
            "\u001b[K     |████████████████████████████████| 54 kB 9.4 MB/s \n",
            "\u001b[?25hCollecting shaloop==0.2.1-alpha.11\n",
            "  Downloading shaloop-0.2.1_alpha.11-py3-none-manylinux1_x86_64.whl (126 kB)\n",
            "\u001b[K     |████████████████████████████████| 126 kB 21.7 MB/s \n",
            "\u001b[?25hCollecting aiortc==0.9.28\n",
            "  Downloading aiortc-0.9.28-cp38-cp38-manylinux2010_x86_64.whl (2.0 MB)\n",
            "\u001b[K     |████████████████████████████████| 2.0 MB 27.2 MB/s \n",
            "\u001b[?25hCollecting openmined.threepio==0.2.0\n",
            "  Downloading openmined.threepio-0.2.0.tar.gz (73 kB)\n",
            "\u001b[K     |████████████████████████████████| 73 kB 6.3 MB/s \n",
            "\u001b[?25hCollecting psutil==5.7.0\n",
            "  Downloading psutil-5.7.0.tar.gz (449 kB)\n",
            "\u001b[K     |████████████████████████████████| 449 kB 13.1 MB/s \n",
            "\u001b[?25hRequirement already satisfied: Flask~=1.1.1 in /home/regatte/.local/lib/python3.8/site-packages (from syft) (1.1.2)\n",
            "Collecting phe~=1.4.0\n",
            "  Downloading phe-1.4.0.tar.gz (35 kB)\n",
            "Collecting syft-proto~=0.5.2\n",
            "  Downloading syft_proto-0.5.3-py3-none-any.whl (66 kB)\n",
            "\u001b[K     |████████████████████████████████| 66 kB 10.2 MB/s \n",
            "\u001b[?25hCollecting notebook==5.7.8\n",
            "  Downloading notebook-5.7.8-py2.py3-none-any.whl (9.0 MB)\n",
            "\u001b[K     |████████████████████████████████| 9.0 MB 23.4 MB/s \n",
            "\u001b[?25hCollecting torch~=1.4.0\n",
            "  Downloading torch-1.4.0-cp38-cp38-manylinux1_x86_64.whl (753.4 MB)\n",
            "\u001b[K     |████████████████████████████████| 753.4 MB 27 kB/s \n",
            "\u001b[?25hCollecting RestrictedPython~=5.0\n",
            "  Downloading RestrictedPython-5.1-py2.py3-none-any.whl (27 kB)\n",
            "Collecting dill~=0.3.1\n",
            "  Downloading dill-0.3.3-py2.py3-none-any.whl (81 kB)\n",
            "\u001b[K     |████████████████████████████████| 81 kB 18.1 MB/s \n",
            "\u001b[?25hCollecting msgpack~=1.0.0\n",
            "  Downloading msgpack-1.0.0-cp38-cp38-manylinux1_x86_64.whl (303 kB)\n",
            "\u001b[K     |████████████████████████████████| 303 kB 23.7 MB/s \n",
            "\u001b[?25hCollecting websockets~=8.1.0\n",
            "  Downloading websockets-8.1-cp38-cp38-manylinux2010_x86_64.whl (78 kB)\n",
            "\u001b[K     |████████████████████████████████| 78 kB 12.2 MB/s \n",
            "\u001b[?25hCollecting Pillow>=7.1.0\n",
            "  Downloading Pillow-8.0.1-cp38-cp38-manylinux1_x86_64.whl (2.2 MB)\n",
            "\u001b[K     |████████████████████████████████| 2.2 MB 20.2 MB/s \n",
            "\u001b[?25hCollecting tornado==4.5.3\n",
            "  Downloading tornado-4.5.3.tar.gz (484 kB)\n",
            "\u001b[K     |████████████████████████████████| 484 kB 16.2 MB/s \n",
            "\u001b[?25hRequirement already satisfied: six in /usr/lib/python3/dist-packages (from torchvision~=0.5.0->syft) (1.14.0)\n",
            "Collecting python-socketio>=4.3.0\n",
            "  Downloading python_socketio-4.6.0-py2.py3-none-any.whl (51 kB)\n",
            "\u001b[K     |████████████████████████████████| 51 kB 2.4 MB/s \n",
            "\u001b[?25hRequirement already satisfied: cffi>=1 in /home/regatte/.local/lib/python3.8/site-packages (from shaloop==0.2.1-alpha.11->syft) (1.14.3)\n",
            "Requirement already satisfied: pycparser>=2 in /home/regatte/.local/lib/python3.8/site-packages (from shaloop==0.2.1-alpha.11->syft) (2.20)\n",
            "Collecting pylibsrtp>=0.5.6\n",
            "  Downloading pylibsrtp-0.6.7-cp38-cp38-manylinux2010_x86_64.whl (75 kB)\n",
            "\u001b[K     |████████████████████████████████| 75 kB 14.1 MB/s \n",
            "\u001b[?25hCollecting crc32c\n",
            "  Downloading crc32c-2.2-cp38-cp38-manylinux2010_x86_64.whl (47 kB)\n",
            "\u001b[K     |████████████████████████████████| 47 kB 13.2 MB/s \n",
            "\u001b[?25hCollecting pyee>=6.0.0\n",
            "  Downloading pyee-8.1.0-py2.py3-none-any.whl (12 kB)\n",
            "Requirement already satisfied: cryptography>=2.2 in /usr/lib/python3/dist-packages (from aiortc==0.9.28->syft) (2.8)\n",
            "Collecting aioice<0.7.0,>=0.6.17\n",
            "  Downloading aioice-0.6.18-py3-none-any.whl (19 kB)\n",
            "Collecting av<9.0.0,>=8.0.0\n",
            "  Downloading av-8.0.2-cp38-cp38-manylinux2010_x86_64.whl (37.8 MB)\n",
            "\u001b[K     |████████████████████████████████| 37.8 MB 18.6 MB/s \n",
            "\u001b[?25hRequirement already satisfied: itsdangerous>=0.24 in /home/regatte/.local/lib/python3.8/site-packages (from Flask~=1.1.1->syft) (1.1.0)\n",
            "Requirement already satisfied: Werkzeug>=0.15 in /home/regatte/.local/lib/python3.8/site-packages (from Flask~=1.1.1->syft) (1.0.1)\n",
            "Requirement already satisfied: Jinja2>=2.10.1 in /home/regatte/.local/lib/python3.8/site-packages (from Flask~=1.1.1->syft) (2.11.2)\n",
            "Requirement already satisfied: click>=5.1 in /usr/lib/python3/dist-packages (from Flask~=1.1.1->syft) (7.0)\n",
            "Requirement already satisfied: protobuf>=3.12.2 in /home/regatte/.local/lib/python3.8/site-packages (from syft-proto~=0.5.2->syft) (3.13.0)\n",
            "Requirement already satisfied: jupyter-client>=5.2.0 in /home/regatte/.local/lib/python3.8/site-packages (from notebook==5.7.8->syft) (6.1.7)\n",
            "Requirement already satisfied: jupyter-core>=4.4.0 in /home/regatte/.local/lib/python3.8/site-packages (from notebook==5.7.8->syft) (4.6.3)\n",
            "Requirement already satisfied: prometheus-client in /home/regatte/.local/lib/python3.8/site-packages (from notebook==5.7.8->syft) (0.8.0)\n",
            "Requirement already satisfied: terminado>=0.8.1 in /home/regatte/.local/lib/python3.8/site-packages (from notebook==5.7.8->syft) (0.9.1)\n",
            "Requirement already satisfied: nbconvert in /home/regatte/.local/lib/python3.8/site-packages (from notebook==5.7.8->syft) (6.0.7)\n",
            "Requirement already satisfied: Send2Trash in /home/regatte/.local/lib/python3.8/site-packages (from notebook==5.7.8->syft) (1.5.0)\n",
            "Requirement already satisfied: pyzmq>=17 in /home/regatte/.local/lib/python3.8/site-packages (from notebook==5.7.8->syft) (19.0.2)\n",
            "Requirement already satisfied: nbformat in /home/regatte/.local/lib/python3.8/site-packages (from notebook==5.7.8->syft) (5.0.8)\n",
            "Requirement already satisfied: ipykernel in /home/regatte/.local/lib/python3.8/site-packages (from notebook==5.7.8->syft) (5.3.4)\n",
            "Requirement already satisfied: ipython-genutils in /home/regatte/.local/lib/python3.8/site-packages (from notebook==5.7.8->syft) (0.2.0)\n",
            "Requirement already satisfied: traitlets>=4.2.1 in /home/regatte/.local/lib/python3.8/site-packages (from notebook==5.7.8->syft) (5.0.5)\n",
            "Collecting python-engineio>=3.13.0\n",
            "  Downloading python_engineio-3.13.2-py2.py3-none-any.whl (50 kB)\n",
            "\u001b[K     |████████████████████████████████| 50 kB 20.3 MB/s \n",
            "\u001b[?25hRequirement already satisfied: netifaces in /usr/lib/python3/dist-packages (from aioice<0.7.0,>=0.6.17->aiortc==0.9.28->syft) (0.10.4)\n",
            "Requirement already satisfied: MarkupSafe>=0.23 in /usr/lib/python3/dist-packages (from Jinja2>=2.10.1->Flask~=1.1.1->syft) (1.1.0)\n",
            "Requirement already satisfied: setuptools in /usr/lib/python3/dist-packages (from protobuf>=3.12.2->syft-proto~=0.5.2->syft) (45.2.0)\n",
            "Requirement already satisfied: python-dateutil>=2.1 in /usr/lib/python3/dist-packages (from jupyter-client>=5.2.0->notebook==5.7.8->syft) (2.7.3)\n",
            "Requirement already satisfied: ptyprocess; os_name != \"nt\" in /home/regatte/.local/lib/python3.8/site-packages (from terminado>=0.8.1->notebook==5.7.8->syft) (0.6.0)\n",
            "Requirement already satisfied: pygments>=2.4.1 in /home/regatte/.local/lib/python3.8/site-packages (from nbconvert->notebook==5.7.8->syft) (2.7.2)\n",
            "Requirement already satisfied: entrypoints>=0.2.2 in /usr/lib/python3/dist-packages (from nbconvert->notebook==5.7.8->syft) (0.3)\n",
            "Requirement already satisfied: nbclient<0.6.0,>=0.5.0 in /home/regatte/.local/lib/python3.8/site-packages (from nbconvert->notebook==5.7.8->syft) (0.5.1)\n",
            "Requirement already satisfied: pandocfilters>=1.4.1 in /home/regatte/.local/lib/python3.8/site-packages (from nbconvert->notebook==5.7.8->syft) (1.4.3)\n",
            "Requirement already satisfied: mistune<2,>=0.8.1 in /home/regatte/.local/lib/python3.8/site-packages (from nbconvert->notebook==5.7.8->syft) (0.8.4)\n",
            "Requirement already satisfied: defusedxml in /home/regatte/.local/lib/python3.8/site-packages (from nbconvert->notebook==5.7.8->syft) (0.6.0)\n",
            "Requirement already satisfied: testpath in /home/regatte/.local/lib/python3.8/site-packages (from nbconvert->notebook==5.7.8->syft) (0.4.4)\n",
            "Requirement already satisfied: bleach in /home/regatte/.local/lib/python3.8/site-packages (from nbconvert->notebook==5.7.8->syft) (3.2.1)\n",
            "Requirement already satisfied: jupyterlab-pygments in /home/regatte/.local/lib/python3.8/site-packages (from nbconvert->notebook==5.7.8->syft) (0.1.2)\n",
            "Requirement already satisfied: jsonschema!=2.5.0,>=2.4 in /home/regatte/.local/lib/python3.8/site-packages (from nbformat->notebook==5.7.8->syft) (3.2.0)\n",
            "Requirement already satisfied: ipython>=5.0.0 in /home/regatte/.local/lib/python3.8/site-packages (from ipykernel->notebook==5.7.8->syft) (7.19.0)\n",
            "Requirement already satisfied: nest-asyncio in /home/regatte/.local/lib/python3.8/site-packages (from nbclient<0.6.0,>=0.5.0->nbconvert->notebook==5.7.8->syft) (1.4.2)\n",
            "Requirement already satisfied: async-generator in /home/regatte/.local/lib/python3.8/site-packages (from nbclient<0.6.0,>=0.5.0->nbconvert->notebook==5.7.8->syft) (1.10)\n",
            "Requirement already satisfied: webencodings in /home/regatte/.local/lib/python3.8/site-packages (from bleach->nbconvert->notebook==5.7.8->syft) (0.5.1)\n",
            "Requirement already satisfied: packaging in /home/regatte/.local/lib/python3.8/site-packages (from bleach->nbconvert->notebook==5.7.8->syft) (20.4)\n",
            "Requirement already satisfied: pyrsistent>=0.14.0 in /home/regatte/.local/lib/python3.8/site-packages (from jsonschema!=2.5.0,>=2.4->nbformat->notebook==5.7.8->syft) (0.17.3)\n",
            "Requirement already satisfied: attrs>=17.4.0 in /home/regatte/.local/lib/python3.8/site-packages (from jsonschema!=2.5.0,>=2.4->nbformat->notebook==5.7.8->syft) (20.3.0)\n",
            "Requirement already satisfied: pexpect>4.3; sys_platform != \"win32\" in /usr/lib/python3/dist-packages (from ipython>=5.0.0->ipykernel->notebook==5.7.8->syft) (4.6.0)\n",
            "Requirement already satisfied: decorator in /home/regatte/.local/lib/python3.8/site-packages (from ipython>=5.0.0->ipykernel->notebook==5.7.8->syft) (4.4.2)\n",
            "Requirement already satisfied: jedi>=0.10 in /home/regatte/.local/lib/python3.8/site-packages (from ipython>=5.0.0->ipykernel->notebook==5.7.8->syft) (0.17.2)\n",
            "Requirement already satisfied: prompt-toolkit!=3.0.0,!=3.0.1,<3.1.0,>=2.0.0 in /home/regatte/.local/lib/python3.8/site-packages (from ipython>=5.0.0->ipykernel->notebook==5.7.8->syft) (3.0.8)\n",
            "Requirement already satisfied: pickleshare in /home/regatte/.local/lib/python3.8/site-packages (from ipython>=5.0.0->ipykernel->notebook==5.7.8->syft) (0.7.5)\n",
            "Requirement already satisfied: backcall in /home/regatte/.local/lib/python3.8/site-packages (from ipython>=5.0.0->ipykernel->notebook==5.7.8->syft) (0.2.0)\n",
            "Requirement already satisfied: pyparsing>=2.0.2 in /home/regatte/.local/lib/python3.8/site-packages (from packaging->bleach->nbconvert->notebook==5.7.8->syft) (2.4.7)\n",
            "Requirement already satisfied: parso<0.8.0,>=0.7.0 in /home/regatte/.local/lib/python3.8/site-packages (from jedi>=0.10->ipython>=5.0.0->ipykernel->notebook==5.7.8->syft) (0.7.1)\n",
            "Requirement already satisfied: wcwidth in /home/regatte/.local/lib/python3.8/site-packages (from prompt-toolkit!=3.0.0,!=3.0.1,<3.1.0,>=2.0.0->ipython>=5.0.0->ipykernel->notebook==5.7.8->syft) (0.2.5)\n",
            "Building wheels for collected packages: openmined.threepio, psutil, phe, tornado\n",
            "  Building wheel for openmined.threepio (setup.py) ... \u001b[?25ldone\n",
            "\u001b[?25h  Created wheel for openmined.threepio: filename=openmined.threepio-0.2.0-py3-none-any.whl size=80094 sha256=4aaf1ea48ed2a126a986d256c7537e7ead6f73b45f60b074dff460aeff724740\n",
            "  Stored in directory: /home/regatte/.cache/pip/wheels/79/4d/4f/ccec738f40c7a94fed7c0f1db1aecc944a8f0cdfe4f3867865\n",
            "  Building wheel for psutil (setup.py) ... \u001b[?25ldone\n",
            "\u001b[?25h  Created wheel for psutil: filename=psutil-5.7.0-cp38-cp38-linux_x86_64.whl size=285844 sha256=e65556126393d32e0cd4d93ca26fbf288488aa71b380e5a34654bb9589580238\n",
            "  Stored in directory: /home/regatte/.cache/pip/wheels/90/c9/b6/04665702b01dbd9ee92a05e834b627948ed01cdd482e6a78e1\n",
            "  Building wheel for phe (setup.py) ... \u001b[?25ldone\n",
            "\u001b[?25h  Created wheel for phe: filename=phe-1.4.0-py2.py3-none-any.whl size=37362 sha256=4826f413126249a9d40ff94e85b7bb872c831ab54def1a6c571c785ee729d911\n",
            "  Stored in directory: /home/regatte/.cache/pip/wheels/f7/6a/39/9f3220117feb615a398d60a0d6875f9becadee3d09af64f7bf\n",
            "  Building wheel for tornado (setup.py) ... \u001b[?25ldone\n",
            "\u001b[?25h  Created wheel for tornado: filename=tornado-4.5.3-cp38-cp38-linux_x86_64.whl size=433345 sha256=8e86a38fc0dfb997e3a11692fb31a7124d8095fae9e3c7f06a9ca6daaa506584\n",
            "  Stored in directory: /home/regatte/.cache/pip/wheels/20/fe/26/0c03adccd0cec2744261ec6b8380fbe5e726d1ea4cf3a9370e\n",
            "Successfully built openmined.threepio psutil phe tornado\n",
            "Installing collected packages: Pillow, torch, torchvision, importlib-resources, python-engineio, python-socketio, flask-socketio, scipy, tblib, websocket-client, lz4, requests-toolbelt, shaloop, pylibsrtp, crc32c, pyee, aioice, av, aiortc, openmined.threepio, psutil, phe, syft-proto, tornado, notebook, RestrictedPython, dill, msgpack, websockets, syft\n",
            "  Attempting uninstall: scipy\n",
            "    Found existing installation: scipy 1.5.4\n",
            "    Uninstalling scipy-1.5.4:\n",
            "      Successfully uninstalled scipy-1.5.4\n",
            "  Attempting uninstall: tornado\n",
            "    Found existing installation: tornado 6.1\n",
            "    Uninstalling tornado-6.1:\n",
            "      Successfully uninstalled tornado-6.1\n",
            "  Attempting uninstall: notebook\n",
            "    Found existing installation: notebook 6.1.5\n",
            "    Uninstalling notebook-6.1.5:\n",
            "      Successfully uninstalled notebook-6.1.5\n",
            "Successfully installed Pillow-8.0.1 RestrictedPython-5.1 aioice-0.6.18 aiortc-0.9.28 av-8.0.2 crc32c-2.2 dill-0.3.3 flask-socketio-4.2.1 importlib-resources-1.5.0 lz4-3.0.2 msgpack-1.0.0 notebook-5.7.8 openmined.threepio-0.2.0 phe-1.4.0 psutil-5.7.0 pyee-8.1.0 pylibsrtp-0.6.7 python-engineio-3.13.2 python-socketio-4.6.0 requests-toolbelt-0.9.1 scipy-1.4.1 shaloop-0.2.1a11 syft-0.2.9 syft-proto-0.5.3 tblib-1.6.0 torch-1.4.0 torchvision-0.5.0 tornado-4.5.3 websocket-client-0.57.0 websockets-8.1\n"
          ]
        }
      ]
    },
    {
      "cell_type": "code",
      "metadata": {
        "id": "PFvoC2zu9y9i"
      },
      "source": [
        "import torch\n",
        "import torch.nn as nn\n",
        "import torch.nn.functional as F\n",
        "import torch.optim as optim\n",
        "from torchvision import datasets, transforms\n",
        "import syft as sy \n",
        "\n",
        "import time"
      ],
      "execution_count": 3,
      "outputs": []
    },
    {
      "cell_type": "code",
      "metadata": {
        "tags": [
          "parameters"
        ],
        "id": "GJQmycGz9y9c"
      },
      "source": [
        "epochs = 10\n",
        "n_train_items = 60000\n",
        "n_test_items = 10000"
      ],
      "execution_count": 4,
      "outputs": []
    },
    {
      "cell_type": "code",
      "metadata": {
        "id": "5uciOQdo9y9l"
      },
      "source": [
        "class Arguments():\n",
        "    def __init__(self):\n",
        "        self.batch_size = 128\n",
        "        self.test_batch_size = 128\n",
        "        self.epochs = epochs\n",
        "        self.lr = 0.01\n",
        "        self.seed = 1\n",
        "        self.log_interval = 1\n",
        "        self.precision_fractional = 3\n",
        "\n",
        "args = Arguments()\n",
        "\n",
        "_ = torch.manual_seed(args.seed)"
      ],
      "execution_count": 5,
      "outputs": []
    },
    {
      "cell_type": "code",
      "metadata": {
        "id": "LITzMK6O9y9o"
      },
      "source": [
        "hook = sy.TorchHook(torch)\n",
        "\n",
        "def connect_to_workers(n_workers):\n",
        "    return [\n",
        "        sy.VirtualWorker(hook, id=f\"worker{i+1}\")\n",
        "        for i in range(n_workers)\n",
        "    ]\n",
        "def connect_to_crypto_provider():\n",
        "    return sy.VirtualWorker(hook, id=\"crypto_provider\")\n",
        "\n",
        "workers = connect_to_workers(n_workers=2)\n",
        "crypto_provider = connect_to_crypto_provider()"
      ],
      "execution_count": 6,
      "outputs": []
    },
    {
      "cell_type": "code",
      "metadata": {
        "id": "_r8gIt0U9y9r"
      },
      "source": [
        "def get_private_data_loaders(precision_fractional, workers, crypto_provider):\n",
        "    \n",
        "    def one_hot_of(index_tensor):\n",
        "        onehot_tensor = torch.zeros(*index_tensor.shape, 10)\n",
        "        onehot_tensor = onehot_tensor.scatter(1, index_tensor.view(-1, 1), 1)\n",
        "        return onehot_tensor\n",
        "        \n",
        "    def secret_share(tensor):\n",
        "        return (\n",
        "            tensor\n",
        "            .fix_precision(precision_fractional=precision_fractional)\n",
        "            .share(*workers, crypto_provider=crypto_provider, protocol=\"fss\", requires_grad=True)\n",
        "        )\n",
        "    \n",
        "    transformation = transforms.Compose([\n",
        "        transforms.ToTensor(),\n",
        "        transforms.Normalize((0.1307,), (0.3081,))\n",
        "    ])\n",
        "    \n",
        "    train_loader = torch.utils.data.DataLoader(\n",
        "        datasets.MNIST('../data', train=True, download=True, transform=transformation),\n",
        "        batch_size=args.batch_size\n",
        "    )\n",
        "    \n",
        "    private_train_loader = [\n",
        "        (secret_share(data), secret_share(one_hot_of(target)))\n",
        "        for i, (data, target) in enumerate(train_loader)\n",
        "        if i < n_train_items / args.batch_size\n",
        "    ]\n",
        "    \n",
        "    test_loader = torch.utils.data.DataLoader(\n",
        "        datasets.MNIST('../data', train=False, download=True, transform=transformation),\n",
        "        batch_size=args.test_batch_size\n",
        "    )\n",
        "    \n",
        "    private_test_loader = [\n",
        "        (secret_share(data), secret_share(target.float()))\n",
        "        for i, (data, target) in enumerate(test_loader)\n",
        "        if i < n_test_items / args.test_batch_size\n",
        "    ]\n",
        "    \n",
        "    return private_train_loader, private_test_loader\n",
        "    \n",
        "    \n",
        "private_train_loader, private_test_loader = get_private_data_loaders(\n",
        "    precision_fractional=args.precision_fractional,\n",
        "    workers=workers,\n",
        "    crypto_provider=crypto_provider\n",
        ")"
      ],
      "execution_count": 8,
      "outputs": []
    },
    {
      "cell_type": "code",
      "metadata": {
        "id": "3ihEbwIJ9y9u"
      },
      "source": [
        "class Net(nn.Module):\n",
        "    def __init__(self):\n",
        "        super(Net, self).__init__()         \n",
        "        self.fc1 = nn.Linear(28 * 28, 128)\n",
        "        self.fc2 = nn.Linear(128, 64)\n",
        "        self.fc3 = nn.Linear(64, 10)\n",
        "\n",
        "    def forward(self, x):\n",
        "        x = x.view(-1, 28 * 28)\n",
        "        x = F.relu(self.fc1(x))\n",
        "        x = F.relu(self.fc2(x))\n",
        "        x = self.fc3(x)\n",
        "        return x"
      ],
      "execution_count": 9,
      "outputs": []
    },
    {
      "cell_type": "code",
      "metadata": {
        "id": "u2lKhfoQ9y9x"
      },
      "source": [
        "def train(args, model, private_train_loader, optimizer, epoch):\n",
        "    model.train()\n",
        "    for batch_idx, (data, target) in enumerate(private_train_loader):\n",
        "        start_time = time.time()\n",
        "        \n",
        "        optimizer.zero_grad()\n",
        "        output = model(data)\n",
        "        batch_size = output.shape[0]\n",
        "        loss = ((output - target)**2).sum().refresh()/batch_size\n",
        "        loss.backward()        \n",
        "        optimizer.step()\n",
        "\n",
        "        if batch_idx % args.log_interval == 0:\n",
        "            loss = loss.get().float_precision()\n",
        "            print('Train Epoch: {} [{}/{} ({:.0f}%)]\\tLoss: {:.6f}\\tTime: {:.3f}s'.format(\n",
        "                epoch, batch_idx * args.batch_size, len(private_train_loader) * args.batch_size,\n",
        "                100. * batch_idx / len(private_train_loader), loss.item(), time.time() - start_time))\n",
        "            "
      ],
      "execution_count": 10,
      "outputs": []
    },
    {
      "cell_type": "code",
      "metadata": {
        "id": "hTfYcY3p9y9z"
      },
      "source": [
        "def test(args, model, private_test_loader):\n",
        "    model.eval()\n",
        "    test_loss = 0\n",
        "    correct = 0\n",
        "    with torch.no_grad():\n",
        "        for data, target in private_test_loader:\n",
        "            start_time = time.time()\n",
        "            \n",
        "            output = model(data)\n",
        "            pred = output.argmax(dim=1)\n",
        "            correct += pred.eq(target.view_as(pred)).sum()\n",
        "\n",
        "    correct = correct.get().float_precision()\n",
        "    print('\\nTest set: Accuracy: {}/{} ({:.0f}%)\\n'.format(\n",
        "        correct.item(), len(private_test_loader)* args.test_batch_size,\n",
        "        100. * correct.item() / (len(private_test_loader) * args.test_batch_size)))"
      ],
      "execution_count": 11,
      "outputs": []
    },
    {
      "cell_type": "code",
      "metadata": {
        "id": "1hdTt8Ox9y92",
        "outputId": "9bfb3959-85ea-4057-d37b-a0cc1b93cd38",
        "colab": {
          "base_uri": "https://localhost:8080/"
        }
      },
      "source": [
        "model = Net()\n",
        "model = model.fix_precision().share(*workers, crypto_provider=crypto_provider, protocol=\"fss\", requires_grad=True)\n",
        "\n",
        "optimizer = optim.SGD(model.parameters(), lr=args.lr)\n",
        "optimizer = optimizer.fix_precision() \n",
        "\n",
        "for epoch in range(1, args.epochs + 1):\n",
        "    train(args, model, private_train_loader, optimizer, epoch)\n",
        "    test(args, model, private_test_loader)"
      ],
      "execution_count": null,
      "outputs": [
        {
          "output_type": "stream",
          "text": [
            "/usr/local/lib/python3.6/dist-packages/syft/frameworks/torch/tensors/interpreters/additive_shared.py:122: UserWarning: Use dtype instead of field\n",
            "  warnings.warn(\"Use dtype instead of field\")\n"
          ],
          "name": "stderr"
        },
        {
          "output_type": "stream",
          "text": [
            "Train Epoch: 1 [0/60032 (0%)]\tLoss: 1.120000\tTime: 8.112s\n",
            "Train Epoch: 1 [128/60032 (0%)]\tLoss: 1.076000\tTime: 8.131s\n",
            "Train Epoch: 1 [256/60032 (0%)]\tLoss: 1.048000\tTime: 8.134s\n",
            "Train Epoch: 1 [384/60032 (1%)]\tLoss: 1.007000\tTime: 8.167s\n",
            "Train Epoch: 1 [512/60032 (1%)]\tLoss: 1.013000\tTime: 8.120s\n"
          ],
          "name": "stdout"
        }
      ]
    },
    {
      "cell_type": "code",
      "execution_count": null,
      "metadata": {},
      "outputs": [],
      "source": [
        "model.save(\"model.h5\")"
      ]
    }
  ]
}